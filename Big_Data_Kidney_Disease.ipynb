{
  "nbformat": 4,
  "nbformat_minor": 0,
  "metadata": {
    "colab": {
      "provenance": []
    },
    "kernelspec": {
      "name": "python3",
      "display_name": "Python 3"
    },
    "accelerator": "GPU"
  },
  "cells": [
    {
      "cell_type": "markdown",
      "metadata": {
        "id": "uOeM61EQ2XQM"
      },
      "source": [
        "##Big data Analytic model to Predict and Classify Chronic Kidney Diseases ##"
      ]
    },
    {
      "cell_type": "markdown",
      "metadata": {
        "id": "j6y1tQ1y4cEC"
      },
      "source": [
        "**Steps required for installation spark in google colab**"
      ]
    },
    {
      "cell_type": "markdown",
      "source": [],
      "metadata": {
        "id": "K1UWayDCcrOS"
      }
    },
    {
      "cell_type": "code",
      "metadata": {
        "id": "OqlI8YujIx6v"
      },
      "source": [
        "# innstall java\n",
        "!apt-get install openjdk-8-jdk-headless -qq > /dev/null\n",
        "\n",
        "# install spark (change the version number if needed)\n",
        "!wget -q https://downloads.apache.org/spark/spark-3.1.2/spark-3.1.2-bin-hadoop3.2.tgz\n",
        "\n",
        "# unzip the spark file to the current folder\n",
        "!tar xf spark-3.1.2-bin-hadoop3.2.tgz\n",
        "!pip install -q findspark"
      ],
      "execution_count": null,
      "outputs": []
    },
    {
      "cell_type": "code",
      "metadata": {
        "id": "o4aPKSGjJeTn"
      },
      "source": [
        "import os\n",
        "os.environ[\"JAVA_HOME\"] = \"/usr/lib/jvm/java-8-openjdk-amd64\"\n",
        "os.environ[\"SPARK_HOME\"] = \"/content/spark-3.1.2-bin-hadoop3.2\"\n"
      ],
      "execution_count": null,
      "outputs": []
    },
    {
      "cell_type": "code",
      "metadata": {
        "id": "Vi3JP5IkJi-l"
      },
      "source": [
        "import findspark\n",
        "findspark.init(\"spark-3.1.2-bin-hadoop3.2\")# SPARK_HOME\n",
        "from pyspark.sql import SparkSession\n",
        "spark = SparkSession.builder.master(\"local[*]\").getOrCreate()"
      ],
      "execution_count": null,
      "outputs": []
    },
    {
      "cell_type": "code",
      "metadata": {
        "colab": {
          "base_uri": "https://localhost:8080/",
          "height": 342
        },
        "id": "FXeCWe4EwiiV",
        "outputId": "ac599155-0002-45ca-87f1-08ac5021919a"
      },
      "source": [
        "from google.colab import drive\n",
        "drive.mount('/content/drive')"
      ],
      "execution_count": null,
      "outputs": [
        {
          "output_type": "error",
          "ename": "MessageError",
          "evalue": "ignored",
          "traceback": [
            "\u001b[0;31m---------------------------------------------------------------------------\u001b[0m",
            "\u001b[0;31mMessageError\u001b[0m                              Traceback (most recent call last)",
            "\u001b[0;32m<ipython-input-1-d5df0069828e>\u001b[0m in \u001b[0;36m<module>\u001b[0;34m()\u001b[0m\n\u001b[1;32m      1\u001b[0m \u001b[0;32mfrom\u001b[0m \u001b[0mgoogle\u001b[0m\u001b[0;34m.\u001b[0m\u001b[0mcolab\u001b[0m \u001b[0;32mimport\u001b[0m \u001b[0mdrive\u001b[0m\u001b[0;34m\u001b[0m\u001b[0;34m\u001b[0m\u001b[0m\n\u001b[0;32m----> 2\u001b[0;31m \u001b[0mdrive\u001b[0m\u001b[0;34m.\u001b[0m\u001b[0mmount\u001b[0m\u001b[0;34m(\u001b[0m\u001b[0;34m'/content/drive'\u001b[0m\u001b[0;34m)\u001b[0m\u001b[0;34m\u001b[0m\u001b[0;34m\u001b[0m\u001b[0m\n\u001b[0m",
            "\u001b[0;32m/usr/local/lib/python3.7/dist-packages/google/colab/drive.py\u001b[0m in \u001b[0;36mmount\u001b[0;34m(mountpoint, force_remount, timeout_ms, use_metadata_server)\u001b[0m\n\u001b[1;32m    111\u001b[0m       \u001b[0mtimeout_ms\u001b[0m\u001b[0;34m=\u001b[0m\u001b[0mtimeout_ms\u001b[0m\u001b[0;34m,\u001b[0m\u001b[0;34m\u001b[0m\u001b[0;34m\u001b[0m\u001b[0m\n\u001b[1;32m    112\u001b[0m       \u001b[0muse_metadata_server\u001b[0m\u001b[0;34m=\u001b[0m\u001b[0muse_metadata_server\u001b[0m\u001b[0;34m,\u001b[0m\u001b[0;34m\u001b[0m\u001b[0;34m\u001b[0m\u001b[0m\n\u001b[0;32m--> 113\u001b[0;31m       ephemeral=ephemeral)\n\u001b[0m\u001b[1;32m    114\u001b[0m \u001b[0;34m\u001b[0m\u001b[0m\n\u001b[1;32m    115\u001b[0m \u001b[0;34m\u001b[0m\u001b[0m\n",
            "\u001b[0;32m/usr/local/lib/python3.7/dist-packages/google/colab/drive.py\u001b[0m in \u001b[0;36m_mount\u001b[0;34m(mountpoint, force_remount, timeout_ms, use_metadata_server, ephemeral)\u001b[0m\n\u001b[1;32m    134\u001b[0m   \u001b[0;32mif\u001b[0m \u001b[0mephemeral\u001b[0m\u001b[0;34m:\u001b[0m\u001b[0;34m\u001b[0m\u001b[0;34m\u001b[0m\u001b[0m\n\u001b[1;32m    135\u001b[0m     _message.blocking_request(\n\u001b[0;32m--> 136\u001b[0;31m         'request_auth', request={'authType': 'dfs_ephemeral'}, timeout_sec=None)\n\u001b[0m\u001b[1;32m    137\u001b[0m \u001b[0;34m\u001b[0m\u001b[0m\n\u001b[1;32m    138\u001b[0m   \u001b[0mmountpoint\u001b[0m \u001b[0;34m=\u001b[0m \u001b[0m_os\u001b[0m\u001b[0;34m.\u001b[0m\u001b[0mpath\u001b[0m\u001b[0;34m.\u001b[0m\u001b[0mexpanduser\u001b[0m\u001b[0;34m(\u001b[0m\u001b[0mmountpoint\u001b[0m\u001b[0;34m)\u001b[0m\u001b[0;34m\u001b[0m\u001b[0;34m\u001b[0m\u001b[0m\n",
            "\u001b[0;32m/usr/local/lib/python3.7/dist-packages/google/colab/_message.py\u001b[0m in \u001b[0;36mblocking_request\u001b[0;34m(request_type, request, timeout_sec, parent)\u001b[0m\n\u001b[1;32m    173\u001b[0m   request_id = send_request(\n\u001b[1;32m    174\u001b[0m       request_type, request, parent=parent, expect_reply=True)\n\u001b[0;32m--> 175\u001b[0;31m   \u001b[0;32mreturn\u001b[0m \u001b[0mread_reply_from_input\u001b[0m\u001b[0;34m(\u001b[0m\u001b[0mrequest_id\u001b[0m\u001b[0;34m,\u001b[0m \u001b[0mtimeout_sec\u001b[0m\u001b[0;34m)\u001b[0m\u001b[0;34m\u001b[0m\u001b[0;34m\u001b[0m\u001b[0m\n\u001b[0m",
            "\u001b[0;32m/usr/local/lib/python3.7/dist-packages/google/colab/_message.py\u001b[0m in \u001b[0;36mread_reply_from_input\u001b[0;34m(message_id, timeout_sec)\u001b[0m\n\u001b[1;32m    104\u001b[0m         reply.get('colab_msg_id') == message_id):\n\u001b[1;32m    105\u001b[0m       \u001b[0;32mif\u001b[0m \u001b[0;34m'error'\u001b[0m \u001b[0;32min\u001b[0m \u001b[0mreply\u001b[0m\u001b[0;34m:\u001b[0m\u001b[0;34m\u001b[0m\u001b[0;34m\u001b[0m\u001b[0m\n\u001b[0;32m--> 106\u001b[0;31m         \u001b[0;32mraise\u001b[0m \u001b[0mMessageError\u001b[0m\u001b[0;34m(\u001b[0m\u001b[0mreply\u001b[0m\u001b[0;34m[\u001b[0m\u001b[0;34m'error'\u001b[0m\u001b[0;34m]\u001b[0m\u001b[0;34m)\u001b[0m\u001b[0;34m\u001b[0m\u001b[0;34m\u001b[0m\u001b[0m\n\u001b[0m\u001b[1;32m    107\u001b[0m       \u001b[0;32mreturn\u001b[0m \u001b[0mreply\u001b[0m\u001b[0;34m.\u001b[0m\u001b[0mget\u001b[0m\u001b[0;34m(\u001b[0m\u001b[0;34m'data'\u001b[0m\u001b[0;34m,\u001b[0m \u001b[0;32mNone\u001b[0m\u001b[0;34m)\u001b[0m\u001b[0;34m\u001b[0m\u001b[0;34m\u001b[0m\u001b[0m\n\u001b[1;32m    108\u001b[0m \u001b[0;34m\u001b[0m\u001b[0m\n",
            "\u001b[0;31mMessageError\u001b[0m: Error: credential propagation was unsuccessful"
          ]
        }
      ]
    },
    {
      "cell_type": "code",
      "metadata": {
        "id": "ruTlDQDYKaQB",
        "colab": {
          "base_uri": "https://localhost:8080/"
        },
        "outputId": "dd18a4fb-b928-40f7-925f-42491dcb6d1d"
      },
      "source": [
        "# Reading the csv file by using spark\n",
        "\n",
        "df_spark = spark.read.csv('/content/drive/MyDrive/Data30k.csv', inferSchema=True, header=True)\n",
        "print(type(df_spark))"
      ],
      "execution_count": null,
      "outputs": [
        {
          "output_type": "stream",
          "name": "stdout",
          "text": [
            "<class 'pyspark.sql.dataframe.DataFrame'>\n"
          ]
        }
      ]
    },
    {
      "cell_type": "code",
      "metadata": {
        "id": "9gSxvtM6NRiy",
        "colab": {
          "base_uri": "https://localhost:8080/"
        },
        "outputId": "54719355-fa16-41dc-be40-95e78a9dc656"
      },
      "source": [
        "df_spark.printSchema() # print detail schema of data\n",
        "df_spark.show()# show top 20 rows\n",
        "# Do more operation on it."
      ],
      "execution_count": null,
      "outputs": [
        {
          "output_type": "stream",
          "name": "stdout",
          "text": [
            "root\n",
            " |-- Age: double (nullable = true)\n",
            " |-- Bp: double (nullable = true)\n",
            " |-- Sg: double (nullable = true)\n",
            " |-- Al: double (nullable = true)\n",
            " |-- Su: double (nullable = true)\n",
            " |-- Rbc: double (nullable = true)\n",
            " |-- Pc: double (nullable = true)\n",
            " |-- Pcc: double (nullable = true)\n",
            " |-- Ba: double (nullable = true)\n",
            " |-- Bgr: double (nullable = true)\n",
            " |-- Bu: double (nullable = true)\n",
            " |-- Sc: double (nullable = true)\n",
            " |-- Sod: double (nullable = true)\n",
            " |-- Pot: double (nullable = true)\n",
            " |-- Hemo: double (nullable = true)\n",
            " |-- Pcv: double (nullable = true)\n",
            " |-- Wbcc: double (nullable = true)\n",
            " |-- Rbcc: double (nullable = true)\n",
            " |-- Htn: double (nullable = true)\n",
            " |-- Dm: integer (nullable = true)\n",
            " |-- Cad: double (nullable = true)\n",
            " |-- Appet: double (nullable = true)\n",
            " |-- pe: double (nullable = true)\n",
            " |-- Ane: double (nullable = true)\n",
            " |-- Class: integer (nullable = true)\n",
            "\n",
            "+----+-----+-----+----+----+----+----+---+---+------+-----+----+------+----+----+-----+-------+----+---+---+---+-----+---+---+-----+\n",
            "| Age|   Bp|   Sg|  Al|  Su| Rbc|  Pc|Pcc| Ba|   Bgr|   Bu|  Sc|   Sod| Pot|Hemo|  Pcv|   Wbcc|Rbcc|Htn| Dm|Cad|Appet| pe|Ane|Class|\n",
            "+----+-----+-----+----+----+----+----+---+---+------+-----+----+------+----+----+-----+-------+----+---+---+---+-----+---+---+-----+\n",
            "|48.0| 80.0| 1.02| 1.0| 0.0|0.81| 1.0|0.0|0.0| 121.0| 36.0| 1.2|137.53|4.63|15.4| 44.0| 7800.0| 5.2|1.0|  1|0.0|  1.0|0.0|0.0|    1|\n",
            "| 7.0| 50.0| 1.02| 4.0| 0.0|0.81| 1.0|0.0|0.0|148.04| 18.0| 0.8|137.53|4.63|11.3| 38.0| 6000.0|4.71|0.0|  0|0.0|  1.0|0.0|0.0|    1|\n",
            "|62.0| 80.0| 1.01| 2.0| 3.0| 1.0| 1.0|0.0|0.0| 423.0| 53.0| 1.8|137.53|4.63| 9.6| 31.0| 7500.0|4.71|0.0|  1|0.0|  0.0|0.0|1.0|    1|\n",
            "|48.0| 70.0|1.005| 4.0| 0.0| 1.0| 0.0|1.0|0.0| 117.0| 56.0| 3.8| 111.0| 2.5|11.2| 32.0| 6700.0| 3.9|1.0|  0|0.0|  0.0|1.0|1.0|    1|\n",
            "|51.0| 80.0| 1.01| 2.0| 0.0| 1.0| 1.0|0.0|0.0| 106.0| 26.0| 1.4|137.53|4.63|11.6| 35.0| 7300.0| 4.6|0.0|  0|0.0|  1.0|0.0|0.0|    1|\n",
            "|60.0| 90.0|1.015| 3.0| 0.0|0.81|0.77|0.0|0.0|  74.0| 25.0| 1.1| 142.0| 3.2|12.2| 39.0| 7800.0| 4.4|1.0|  1|0.0|  1.0|1.0|0.0|    1|\n",
            "|68.0| 70.0| 1.01| 0.0| 0.0|0.81| 1.0|0.0|0.0| 100.0| 54.0|24.0| 104.0| 4.0|12.4| 36.0|8406.12|4.71|0.0|  0|0.0|  1.0|0.0|0.0|    1|\n",
            "|24.0|76.47|1.015| 2.0| 4.0| 1.0| 0.0|0.0|0.0| 410.0| 31.0| 1.1|137.53|4.63|12.4| 44.0| 6900.0| 5.0|0.0|  1|0.0|  1.0|1.0|0.0|    1|\n",
            "|52.0|100.0|1.015| 3.0| 0.0| 1.0| 0.0|1.0|0.0| 138.0| 60.0| 1.9|137.53|4.63|10.8| 33.0| 9600.0| 4.0|1.0|  1|0.0|  1.0|0.0|1.0|    1|\n",
            "|53.0| 90.0| 1.02| 2.0| 0.0| 0.0| 0.0|1.0|0.0|  70.0|107.0| 7.2| 114.0| 3.7| 9.5| 29.0|12100.0| 3.7|1.0|  1|0.0|  0.0|0.0|1.0|    1|\n",
            "|50.0| 60.0| 1.01| 2.0| 4.0|0.81| 0.0|1.0|0.0| 490.0| 55.0| 4.0|137.53|4.63| 9.4| 28.0|8406.12|4.71|1.0|  1|0.0|  1.0|0.0|1.0|    1|\n",
            "|63.0| 70.0| 1.01| 3.0| 0.0| 0.0| 0.0|1.0|0.0| 380.0| 60.0| 2.7| 131.0| 4.2|10.8| 32.0| 4500.0| 3.8|1.0|  1|0.0|  0.0|1.0|0.0|    1|\n",
            "|68.0| 70.0|1.015| 3.0| 1.0|0.81| 1.0|1.0|0.0| 208.0| 72.0| 2.1| 138.0| 5.8| 9.7| 28.0|12200.0| 3.4|1.0|  1|1.0|  0.0|1.0|0.0|    1|\n",
            "|68.0| 70.0| 1.02|1.02|0.45|0.81|0.77|0.0|0.0|  98.0| 86.0| 4.6| 135.0| 3.4| 9.8|38.88|8406.12|4.71|1.0|  1|1.0|  0.0|1.0|0.0|    1|\n",
            "|68.0| 80.0| 1.01| 3.0| 2.0| 1.0| 0.0|1.0|1.0| 157.0| 90.0| 4.1| 130.0| 6.4| 5.6| 16.0|11000.0| 2.6|1.0|  1|1.0|  0.0|1.0|0.0|    1|\n",
            "|40.0| 80.0|1.015| 3.0| 0.0|0.81| 1.0|0.0|0.0|  76.0|162.0| 9.6| 141.0| 4.9| 7.6| 24.0| 3800.0| 2.8|1.0|  0|0.0|  1.0|0.0|1.0|    1|\n",
            "|47.0| 70.0|1.015| 2.0| 0.0|0.81| 1.0|0.0|0.0|  99.0| 46.0| 2.2| 138.0| 4.1|12.6|38.88|8406.12|4.71|0.0|  0|0.0|  1.0|0.0|0.0|    1|\n",
            "|47.0| 80.0| 1.02|1.02|0.45|0.81|0.77|0.0|0.0| 114.0| 87.0| 5.2| 139.0| 3.7|12.1|38.88|8406.12|4.71|1.0|  0|0.0|  0.0|0.0|0.0|    1|\n",
            "|60.0|100.0|1.025| 0.0| 3.0|0.81| 1.0|0.0|0.0| 263.0| 27.0| 1.3| 135.0| 4.3|12.7| 37.0|11400.0| 4.3|1.0|  1|1.0|  1.0|0.0|0.0|    1|\n",
            "|62.0| 60.0|1.015| 1.0| 0.0|0.81| 0.0|1.0|0.0| 100.0| 31.0| 1.6|137.53|4.63|10.3| 30.0| 5300.0| 3.7|1.0|  0|1.0|  1.0|0.0|0.0|    1|\n",
            "+----+-----+-----+----+----+----+----+---+---+------+-----+----+------+----+----+-----+-------+----+---+---+---+-----+---+---+-----+\n",
            "only showing top 20 rows\n",
            "\n"
          ]
        }
      ]
    },
    {
      "cell_type": "code",
      "metadata": {
        "id": "R4Xnjr7b1EJT",
        "colab": {
          "base_uri": "https://localhost:8080/"
        },
        "outputId": "ffb53785-5b7f-427d-9c46-9c60b88b947b"
      },
      "source": [
        "# print rows and columns in spark like shape in pandas\n",
        "print((df_spark.count(), len(df_spark.columns)))"
      ],
      "execution_count": null,
      "outputs": [
        {
          "output_type": "stream",
          "name": "stdout",
          "text": [
            "(31200, 25)\n"
          ]
        }
      ]
    },
    {
      "cell_type": "code",
      "metadata": {
        "id": "oMGig4aSnHG-",
        "colab": {
          "base_uri": "https://localhost:8080/",
          "height": 855
        },
        "outputId": "ed7a6db3-debd-4909-8e13-686e11e71a6c"
      },
      "source": [
        "# Calculate statistical varables for columns\n",
        "df_spark.describe().toPandas().transpose()"
      ],
      "execution_count": null,
      "outputs": [
        {
          "output_type": "execute_result",
          "data": {
            "text/html": [
              "<div>\n",
              "<style scoped>\n",
              "    .dataframe tbody tr th:only-of-type {\n",
              "        vertical-align: middle;\n",
              "    }\n",
              "\n",
              "    .dataframe tbody tr th {\n",
              "        vertical-align: top;\n",
              "    }\n",
              "\n",
              "    .dataframe thead th {\n",
              "        text-align: right;\n",
              "    }\n",
              "</style>\n",
              "<table border=\"1\" class=\"dataframe\">\n",
              "  <thead>\n",
              "    <tr style=\"text-align: right;\">\n",
              "      <th></th>\n",
              "      <th>0</th>\n",
              "      <th>1</th>\n",
              "      <th>2</th>\n",
              "      <th>3</th>\n",
              "      <th>4</th>\n",
              "    </tr>\n",
              "  </thead>\n",
              "  <tbody>\n",
              "    <tr>\n",
              "      <th>summary</th>\n",
              "      <td>count</td>\n",
              "      <td>mean</td>\n",
              "      <td>stddev</td>\n",
              "      <td>min</td>\n",
              "      <td>max</td>\n",
              "    </tr>\n",
              "    <tr>\n",
              "      <th>Age</th>\n",
              "      <td>31200</td>\n",
              "      <td>51.48329999999967</td>\n",
              "      <td>16.95400595365583</td>\n",
              "      <td>2.0</td>\n",
              "      <td>90.0</td>\n",
              "    </tr>\n",
              "    <tr>\n",
              "      <th>Bp</th>\n",
              "      <td>31200</td>\n",
              "      <td>76.46910000000008</td>\n",
              "      <td>13.459657450191504</td>\n",
              "      <td>50.0</td>\n",
              "      <td>180.0</td>\n",
              "    </tr>\n",
              "    <tr>\n",
              "      <th>Sg</th>\n",
              "      <td>31200</td>\n",
              "      <td>1.0177125000000513</td>\n",
              "      <td>0.005427318660790446</td>\n",
              "      <td>1.005</td>\n",
              "      <td>1.025</td>\n",
              "    </tr>\n",
              "    <tr>\n",
              "      <th>Al</th>\n",
              "      <td>31200</td>\n",
              "      <td>1.0173000000000434</td>\n",
              "      <td>1.2707472078903426</td>\n",
              "      <td>0.0</td>\n",
              "      <td>5.0</td>\n",
              "    </tr>\n",
              "    <tr>\n",
              "      <th>Su</th>\n",
              "      <td>31200</td>\n",
              "      <td>0.45012500000002803</td>\n",
              "      <td>1.0282157457827827</td>\n",
              "      <td>0.0</td>\n",
              "      <td>5.0</td>\n",
              "    </tr>\n",
              "    <tr>\n",
              "      <th>Rbc</th>\n",
              "      <td>31200</td>\n",
              "      <td>0.810300000000131</td>\n",
              "      <td>0.3086016241088839</td>\n",
              "      <td>0.0</td>\n",
              "      <td>1.0</td>\n",
              "    </tr>\n",
              "    <tr>\n",
              "      <th>Pc</th>\n",
              "      <td>31200</td>\n",
              "      <td>0.7726250000000582</td>\n",
              "      <td>0.38327740314109365</td>\n",
              "      <td>0.0</td>\n",
              "      <td>1.0</td>\n",
              "    </tr>\n",
              "    <tr>\n",
              "      <th>Pcc</th>\n",
              "      <td>31200</td>\n",
              "      <td>0.10610000000000022</td>\n",
              "      <td>0.30637688971467</td>\n",
              "      <td>0.0</td>\n",
              "      <td>1.0</td>\n",
              "    </tr>\n",
              "    <tr>\n",
              "      <th>Ba</th>\n",
              "      <td>31200</td>\n",
              "      <td>0.05559999999999962</td>\n",
              "      <td>0.22791732041613535</td>\n",
              "      <td>0.0</td>\n",
              "      <td>1.0</td>\n",
              "    </tr>\n",
              "    <tr>\n",
              "      <th>Bgr</th>\n",
              "      <td>31200</td>\n",
              "      <td>148.0369000000035</td>\n",
              "      <td>74.69029466374992</td>\n",
              "      <td>22.0</td>\n",
              "      <td>490.0</td>\n",
              "    </tr>\n",
              "    <tr>\n",
              "      <th>Bu</th>\n",
              "      <td>31200</td>\n",
              "      <td>57.425924999999474</td>\n",
              "      <td>49.22503005809953</td>\n",
              "      <td>1.5</td>\n",
              "      <td>391.0</td>\n",
              "    </tr>\n",
              "    <tr>\n",
              "      <th>Sc</th>\n",
              "      <td>31200</td>\n",
              "      <td>3.0723499999999495</td>\n",
              "      <td>5.61055379600063</td>\n",
              "      <td>0.4</td>\n",
              "      <td>76.0</td>\n",
              "    </tr>\n",
              "    <tr>\n",
              "      <th>Sod</th>\n",
              "      <td>31200</td>\n",
              "      <td>137.5290249999819</td>\n",
              "      <td>9.19290824163827</td>\n",
              "      <td>4.5</td>\n",
              "      <td>163.0</td>\n",
              "    </tr>\n",
              "    <tr>\n",
              "      <th>Pot</th>\n",
              "      <td>31200</td>\n",
              "      <td>4.627850000000205</td>\n",
              "      <td>2.816301048165346</td>\n",
              "      <td>2.5</td>\n",
              "      <td>47.0</td>\n",
              "    </tr>\n",
              "    <tr>\n",
              "      <th>Hemo</th>\n",
              "      <td>31200</td>\n",
              "      <td>12.526900000000749</td>\n",
              "      <td>2.712817588327785</td>\n",
              "      <td>3.1</td>\n",
              "      <td>17.8</td>\n",
              "    </tr>\n",
              "    <tr>\n",
              "      <th>Pcv</th>\n",
              "      <td>31200</td>\n",
              "      <td>38.88369999999804</td>\n",
              "      <td>8.141016800481575</td>\n",
              "      <td>9.0</td>\n",
              "      <td>54.0</td>\n",
              "    </tr>\n",
              "    <tr>\n",
              "      <th>Wbcc</th>\n",
              "      <td>31200</td>\n",
              "      <td>8406.121800000861</td>\n",
              "      <td>2520.1043637717457</td>\n",
              "      <td>2200.0</td>\n",
              "      <td>26400.0</td>\n",
              "    </tr>\n",
              "    <tr>\n",
              "      <th>Rbcc</th>\n",
              "      <td>31200</td>\n",
              "      <td>4.708275000000409</td>\n",
              "      <td>0.8392775767745905</td>\n",
              "      <td>2.1</td>\n",
              "      <td>8.0</td>\n",
              "    </tr>\n",
              "    <tr>\n",
              "      <th>Htn</th>\n",
              "      <td>31200</td>\n",
              "      <td>0.36935000000000084</td>\n",
              "      <td>0.48142757098650096</td>\n",
              "      <td>0.0</td>\n",
              "      <td>1.0</td>\n",
              "    </tr>\n",
              "    <tr>\n",
              "      <th>Dm</th>\n",
              "      <td>31200</td>\n",
              "      <td>0.3425</td>\n",
              "      <td>0.47455344059414756</td>\n",
              "      <td>0</td>\n",
              "      <td>1</td>\n",
              "    </tr>\n",
              "    <tr>\n",
              "      <th>Cad</th>\n",
              "      <td>400</td>\n",
              "      <td>0.08545000000000001</td>\n",
              "      <td>0.2791659570559194</td>\n",
              "      <td>0.0</td>\n",
              "      <td>1.0</td>\n",
              "    </tr>\n",
              "    <tr>\n",
              "      <th>Appet</th>\n",
              "      <td>400</td>\n",
              "      <td>0.7944749999999999</td>\n",
              "      <td>0.40407662537312455</td>\n",
              "      <td>0.0</td>\n",
              "      <td>1.0</td>\n",
              "    </tr>\n",
              "    <tr>\n",
              "      <th>pe</th>\n",
              "      <td>400</td>\n",
              "      <td>0.190475</td>\n",
              "      <td>0.39267672697113315</td>\n",
              "      <td>0.0</td>\n",
              "      <td>1.0</td>\n",
              "    </tr>\n",
              "    <tr>\n",
              "      <th>Ane</th>\n",
              "      <td>400</td>\n",
              "      <td>0.150375</td>\n",
              "      <td>0.35743952903574233</td>\n",
              "      <td>0.0</td>\n",
              "      <td>1.0</td>\n",
              "    </tr>\n",
              "    <tr>\n",
              "      <th>Class</th>\n",
              "      <td>400</td>\n",
              "      <td>0.625</td>\n",
              "      <td>0.4847292089559257</td>\n",
              "      <td>0</td>\n",
              "      <td>1</td>\n",
              "    </tr>\n",
              "  </tbody>\n",
              "</table>\n",
              "</div>"
            ],
            "text/plain": [
              "             0                    1                     2       3        4\n",
              "summary  count                 mean                stddev     min      max\n",
              "Age      31200    51.48329999999967     16.95400595365583     2.0     90.0\n",
              "Bp       31200    76.46910000000008    13.459657450191504    50.0    180.0\n",
              "Sg       31200   1.0177125000000513  0.005427318660790446   1.005    1.025\n",
              "Al       31200   1.0173000000000434    1.2707472078903426     0.0      5.0\n",
              "Su       31200  0.45012500000002803    1.0282157457827827     0.0      5.0\n",
              "Rbc      31200    0.810300000000131    0.3086016241088839     0.0      1.0\n",
              "Pc       31200   0.7726250000000582   0.38327740314109365     0.0      1.0\n",
              "Pcc      31200  0.10610000000000022      0.30637688971467     0.0      1.0\n",
              "Ba       31200  0.05559999999999962   0.22791732041613535     0.0      1.0\n",
              "Bgr      31200    148.0369000000035     74.69029466374992    22.0    490.0\n",
              "Bu       31200   57.425924999999474     49.22503005809953     1.5    391.0\n",
              "Sc       31200   3.0723499999999495      5.61055379600063     0.4     76.0\n",
              "Sod      31200    137.5290249999819      9.19290824163827     4.5    163.0\n",
              "Pot      31200    4.627850000000205     2.816301048165346     2.5     47.0\n",
              "Hemo     31200   12.526900000000749     2.712817588327785     3.1     17.8\n",
              "Pcv      31200    38.88369999999804     8.141016800481575     9.0     54.0\n",
              "Wbcc     31200    8406.121800000861    2520.1043637717457  2200.0  26400.0\n",
              "Rbcc     31200    4.708275000000409    0.8392775767745905     2.1      8.0\n",
              "Htn      31200  0.36935000000000084   0.48142757098650096     0.0      1.0\n",
              "Dm       31200               0.3425   0.47455344059414756       0        1\n",
              "Cad        400  0.08545000000000001    0.2791659570559194     0.0      1.0\n",
              "Appet      400   0.7944749999999999   0.40407662537312455     0.0      1.0\n",
              "pe         400             0.190475   0.39267672697113315     0.0      1.0\n",
              "Ane        400             0.150375   0.35743952903574233     0.0      1.0\n",
              "Class      400                0.625    0.4847292089559257       0        1"
            ]
          },
          "metadata": {},
          "execution_count": 80
        }
      ]
    },
    {
      "cell_type": "code",
      "metadata": {
        "id": "m0D3bU-0qxm7",
        "colab": {
          "base_uri": "https://localhost:8080/",
          "height": 608
        },
        "outputId": "c3da6bee-ed61-4d96-d66e-754c46cbbdb9"
      },
      "source": [
        "# Plot scatter matrix between the columns\n",
        "import pandas as pd\n",
        "from pandas.plotting import scatter_matrix\n",
        "numeric_features = [t[0] for t in df_spark.dtypes if t[1] == 'int' or t[1] == 'double']\n",
        "sampled_data = df_spark.select(numeric_features).sample(False, 0.8).toPandas()\n",
        "axs = scatter_matrix(sampled_data, figsize=(10, 10))\n",
        "n = len(sampled_data.columns)\n",
        "for i in range(n):\n",
        "    v = axs[i, 0]\n",
        "    v.yaxis.label.set_rotation(0)\n",
        "    v.yaxis.label.set_ha('right')\n",
        "    v.set_yticks(())\n",
        "    h = axs[n-1, i]\n",
        "    h.xaxis.label.set_rotation(90)\n",
        "    h.set_xticks(())"
      ],
      "execution_count": null,
      "outputs": [
        {
          "output_type": "display_data",
          "data": {
            "image/png": "[encoded data removed]",
            "text/plain": [
              "<Figure size 720x720 with 625 Axes>"
            ]
          },
          "metadata": {
            "needs_background": "light"
          }
        }
      ]
    },
    {
      "cell_type": "code",
      "metadata": {
        "id": "FqA2ZYVM_DW0",
        "colab": {
          "base_uri": "https://localhost:8080/"
        },
        "outputId": "7ecde022-007a-4606-d70a-8528ea0a3c0a"
      },
      "source": [
        "#Drop null values\n",
        "df_spark = df_spark.na.drop()\n",
        "df_spark.show(10)"
      ],
      "execution_count": null,
      "outputs": [
        {
          "output_type": "stream",
          "name": "stdout",
          "text": [
            "+----+-----+-----+---+---+----+----+---+---+------+-----+----+------+----+----+----+-------+----+---+---+---+-----+---+---+-----+\n",
            "| Age|   Bp|   Sg| Al| Su| Rbc|  Pc|Pcc| Ba|   Bgr|   Bu|  Sc|   Sod| Pot|Hemo| Pcv|   Wbcc|Rbcc|Htn| Dm|Cad|Appet| pe|Ane|Class|\n",
            "+----+-----+-----+---+---+----+----+---+---+------+-----+----+------+----+----+----+-------+----+---+---+---+-----+---+---+-----+\n",
            "|48.0| 80.0| 1.02|1.0|0.0|0.81| 1.0|0.0|0.0| 121.0| 36.0| 1.2|137.53|4.63|15.4|44.0| 7800.0| 5.2|1.0|  1|0.0|  1.0|0.0|0.0|    1|\n",
            "| 7.0| 50.0| 1.02|4.0|0.0|0.81| 1.0|0.0|0.0|148.04| 18.0| 0.8|137.53|4.63|11.3|38.0| 6000.0|4.71|0.0|  0|0.0|  1.0|0.0|0.0|    1|\n",
            "|62.0| 80.0| 1.01|2.0|3.0| 1.0| 1.0|0.0|0.0| 423.0| 53.0| 1.8|137.53|4.63| 9.6|31.0| 7500.0|4.71|0.0|  1|0.0|  0.0|0.0|1.0|    1|\n",
            "|48.0| 70.0|1.005|4.0|0.0| 1.0| 0.0|1.0|0.0| 117.0| 56.0| 3.8| 111.0| 2.5|11.2|32.0| 6700.0| 3.9|1.0|  0|0.0|  0.0|1.0|1.0|    1|\n",
            "|51.0| 80.0| 1.01|2.0|0.0| 1.0| 1.0|0.0|0.0| 106.0| 26.0| 1.4|137.53|4.63|11.6|35.0| 7300.0| 4.6|0.0|  0|0.0|  1.0|0.0|0.0|    1|\n",
            "|60.0| 90.0|1.015|3.0|0.0|0.81|0.77|0.0|0.0|  74.0| 25.0| 1.1| 142.0| 3.2|12.2|39.0| 7800.0| 4.4|1.0|  1|0.0|  1.0|1.0|0.0|    1|\n",
            "|68.0| 70.0| 1.01|0.0|0.0|0.81| 1.0|0.0|0.0| 100.0| 54.0|24.0| 104.0| 4.0|12.4|36.0|8406.12|4.71|0.0|  0|0.0|  1.0|0.0|0.0|    1|\n",
            "|24.0|76.47|1.015|2.0|4.0| 1.0| 0.0|0.0|0.0| 410.0| 31.0| 1.1|137.53|4.63|12.4|44.0| 6900.0| 5.0|0.0|  1|0.0|  1.0|1.0|0.0|    1|\n",
            "|52.0|100.0|1.015|3.0|0.0| 1.0| 0.0|1.0|0.0| 138.0| 60.0| 1.9|137.53|4.63|10.8|33.0| 9600.0| 4.0|1.0|  1|0.0|  1.0|0.0|1.0|    1|\n",
            "|53.0| 90.0| 1.02|2.0|0.0| 0.0| 0.0|1.0|0.0|  70.0|107.0| 7.2| 114.0| 3.7| 9.5|29.0|12100.0| 3.7|1.0|  1|0.0|  0.0|0.0|1.0|    1|\n",
            "+----+-----+-----+---+---+----+----+---+---+------+-----+----+------+----+----+----+-------+----+---+---+---+-----+---+---+-----+\n",
            "only showing top 10 rows\n",
            "\n"
          ]
        }
      ]
    },
    {
      "cell_type": "code",
      "metadata": {
        "id": "xvW6Kk-qrS4P",
        "colab": {
          "base_uri": "https://localhost:8080/"
        },
        "outputId": "10d0062e-146d-47f6-c20b-5efd0fe1df22"
      },
      "source": [
        "# Correlation matrix between the input features and Class\n",
        "import six\n",
        "for i in df_spark.columns:\n",
        "    if not( isinstance(df_spark.select(i).take(1)[0][0], six.string_types)):\n",
        "        print( \"Correlation to Class for \", i, df_spark.stat.corr('Class',i))"
      ],
      "execution_count": null,
      "outputs": [
        {
          "output_type": "stream",
          "name": "stdout",
          "text": [
            "Correlation to Class for  Age 0.22540290952856618\n",
            "Correlation to Class for  Bp 0.29060089967523883\n",
            "Correlation to Class for  Sg -0.6595042035486902\n",
            "Correlation to Class for  Al 0.599389954613653\n",
            "Correlation to Class for  Su 0.32780258287250186\n",
            "Correlation to Class for  Rbc -0.447543981300977\n",
            "Correlation to Class for  Pc -0.43163811259107193\n",
            "Correlation to Class for  Pcc 0.26083506863686023\n",
            "Correlation to Class for  Ba 0.18352659816648798\n",
            "Correlation to Class for  Bgr 0.4013760428033554\n",
            "Correlation to Class for  Bu 0.3720333558551968\n",
            "Correlation to Class for  Sc 0.2940761851364562\n",
            "Correlation to Class for  Sod -0.3422684798980598\n",
            "Correlation to Class for  Pot 0.07706298125764734\n",
            "Correlation to Class for  Hemo -0.7295368458037175\n",
            "Correlation to Class for  Pcv -0.6901247445157227\n",
            "Correlation to Class for  Wbcc 0.20527403304332384\n",
            "Correlation to Class for  Rbcc -0.5902479554811217\n",
            "Correlation to Class for  Htn 0.5863404528312028\n",
            "Correlation to Class for  Dm 0.5590595035567412\n",
            "Correlation to Class for  Cad 0.23405969000070587\n",
            "Correlation to Class for  Appet -0.39178846214828567\n",
            "Correlation to Class for  pe 0.3737010092835088\n",
            "Correlation to Class for  Ane 0.3241115532269008\n",
            "Correlation to Class for  Class 1.0\n"
          ]
        }
      ]
    },
    {
      "cell_type": "markdown",
      "metadata": {
        "id": "kaP4THCZrrwt"
      },
      "source": [
        "**Prepare Data for Machine Learning algorithm**"
      ]
    },
    {
      "cell_type": "code",
      "metadata": {
        "id": "xWFXNYntr-kb",
        "colab": {
          "base_uri": "https://localhost:8080/"
        },
        "outputId": "adf08799-8e4a-40d2-e1a4-4f7cbf0e74fd"
      },
      "source": [
        "# Spark support only two columns during training one for features and second one is labels\n",
        "# Vector Assembler is used to assemble all the features used for training\n",
        "# Class in the label where to train a Classification model for estimating the\n",
        "# bill is counterfeit or not\n",
        "from pyspark.ml.feature import VectorAssembler\n",
        "vectorAssembler = VectorAssembler(inputCols = ['Age', 'Bp', 'Sg', 'Al', 'Su', 'Rbc', 'Pc', 'Pcc', 'Ba', 'Bgr', 'Bu', 'Sc', 'Sod', 'Pot', 'Hemo', 'Pcv', 'Wbcc', 'Rbcc', 'Htn', 'Dm', 'Cad', 'Appet', 'pe', 'Ane', ], outputCol = 'features')\n",
        "Counterfeit_df = vectorAssembler.transform(df_spark)\n",
        "Counterfeit_df= Counterfeit_df.select(['features', 'Class'])\n",
        "Counterfeit_df.show(10)"
      ],
      "execution_count": null,
      "outputs": [
        {
          "output_type": "stream",
          "name": "stdout",
          "text": [
            "+--------------------+-----+\n",
            "|            features|Class|\n",
            "+--------------------+-----+\n",
            "|[48.0,80.0,1.02,1...|    1|\n",
            "|[7.0,50.0,1.02,4....|    1|\n",
            "|[62.0,80.0,1.01,2...|    1|\n",
            "|[48.0,70.0,1.005,...|    1|\n",
            "|[51.0,80.0,1.01,2...|    1|\n",
            "|[60.0,90.0,1.015,...|    1|\n",
            "|[68.0,70.0,1.01,0...|    1|\n",
            "|[24.0,76.47,1.015...|    1|\n",
            "|[52.0,100.0,1.015...|    1|\n",
            "|[53.0,90.0,1.02,2...|    1|\n",
            "+--------------------+-----+\n",
            "only showing top 10 rows\n",
            "\n"
          ]
        }
      ]
    },
    {
      "cell_type": "code",
      "metadata": {
        "id": "-F5BL7-GNoMw"
      },
      "source": [
        "# Splitting data into training and testing 80% training and 20% testing\n",
        "weights = [.8, .2]\n",
        "#seed = 42 # seed=0L\n",
        "rawTrainData, rawValidationData = Counterfeit_df.randomSplit(weights)"
      ],
      "execution_count": null,
      "outputs": []
    },
    {
      "cell_type": "code",
      "metadata": {
        "id": "VbAQ2Ev1ROcs",
        "colab": {
          "base_uri": "https://localhost:8080/"
        },
        "outputId": "7b7118e5-fe35-41d0-e042-036a36ffa589"
      },
      "source": [
        "rawValidationData .show(100)"
      ],
      "execution_count": null,
      "outputs": [
        {
          "output_type": "stream",
          "name": "stdout",
          "text": [
            "+--------------------+-----+\n",
            "|            features|Class|\n",
            "+--------------------+-----+\n",
            "|(24,[0,1,2,5,6,9,...|    1|\n",
            "|[5.0,76.47,1.015,...|    1|\n",
            "|[17.0,60.0,1.025,...|    0|\n",
            "|[19.0,80.0,1.02,0...|    0|\n",
            "|[20.0,60.0,1.025,...|    0|\n",
            "|[21.0,90.0,1.01,4...|    1|\n",
            "|[23.0,60.0,1.02,0...|    0|\n",
            "|[26.0,70.0,1.015,...|    1|\n",
            "|[28.0,60.0,1.025,...|    0|\n",
            "|[30.0,60.0,1.025,...|    0|\n",
            "|[30.0,80.0,1.025,...|    0|\n",
            "|[33.0,80.0,1.025,...|    0|\n",
            "|[34.0,70.0,1.02,1...|    1|\n",
            "|[35.0,60.0,1.025,...|    0|\n",
            "|[35.0,76.47,1.02,...|    0|\n",
            "|[38.0,80.0,1.02,0...|    0|\n",
            "|[39.0,70.0,1.025,...|    0|\n",
            "|[42.0,90.0,1.02,2...|    1|\n",
            "|[43.0,80.0,1.025,...|    0|\n",
            "|[44.0,60.0,1.025,...|    0|\n",
            "|[45.0,70.0,1.025,...|    1|\n",
            "|[47.0,70.0,1.015,...|    1|\n",
            "|[47.0,80.0,1.01,0...|    1|\n",
            "|[47.0,80.0,1.02,1...|    0|\n",
            "|[48.0,70.0,1.015,...|    1|\n",
            "|[48.0,110.0,1.015...|    1|\n",
            "|[49.0,100.0,1.01,...|    1|\n",
            "|[50.0,70.0,1.02,3...|    1|\n",
            "|[50.0,90.0,1.01,2...|    1|\n",
            "|[51.48,70.0,1.01,...|    1|\n",
            "|[51.48,70.0,1.02,...|    1|\n",
            "|[52.0,80.0,1.02,0...|    0|\n",
            "|[52.0,80.0,1.025,...|    0|\n",
            "|[52.0,100.0,1.015...|    1|\n",
            "|[53.0,90.0,1.015,...|    1|\n",
            "|[54.0,70.0,1.02,0...|    0|\n",
            "|[54.0,90.0,1.025,...|    1|\n",
            "|[55.0,80.0,1.02,0...|    0|\n",
            "|[55.0,80.0,1.02,0...|    0|\n",
            "|[55.0,80.0,1.025,...|    0|\n",
            "|[57.0,80.0,1.02,1...|    1|\n",
            "|[57.0,80.0,1.025,...|    0|\n",
            "|[59.0,50.0,1.01,3...|    1|\n",
            "|[60.0,70.0,1.01,1...|    1|\n",
            "|[60.0,70.0,1.02,0...|    0|\n",
            "|[60.0,80.0,1.02,0...|    1|\n",
            "|[60.0,90.0,1.01,3...|    1|\n",
            "|[60.0,90.0,1.02,1...|    1|\n",
            "|[61.0,70.0,1.025,...|    0|\n",
            "|[61.0,80.0,1.015,...|    1|\n",
            "|[61.0,80.0,1.02,0...|    1|\n",
            "|[62.0,60.0,1.015,...|    1|\n",
            "|[62.0,70.0,1.025,...|    1|\n",
            "|[62.0,80.0,1.025,...|    0|\n",
            "|[62.0,90.0,1.02,2...|    1|\n",
            "|[63.0,70.0,1.01,3...|    1|\n",
            "|[63.0,100.0,1.01,...|    1|\n",
            "|[64.0,70.0,1.01,0...|    1|\n",
            "|[64.0,70.0,1.02,0...|    0|\n",
            "|[64.0,90.0,1.015,...|    1|\n",
            "|[64.0,100.0,1.015...|    1|\n",
            "|[65.0,60.0,1.01,2...|    1|\n",
            "|[65.0,60.0,1.02,0...|    0|\n",
            "|[65.0,70.0,1.01,2...|    1|\n",
            "|[65.0,70.0,1.025,...|    0|\n",
            "|[65.0,80.0,1.015,...|    1|\n",
            "|[65.0,80.0,1.015,...|    1|\n",
            "|[65.0,90.0,1.02,2...|    1|\n",
            "|[65.0,100.0,1.015...|    1|\n",
            "|[66.0,70.0,1.025,...|    0|\n",
            "|[68.0,60.0,1.025,...|    0|\n",
            "|[68.0,70.0,1.015,...|    1|\n",
            "|[71.0,60.0,1.02,3...|    1|\n",
            "|[71.0,90.0,1.015,...|    1|\n",
            "|[72.0,80.0,1.02,1...|    1|\n",
            "|[73.0,60.0,1.02,0...|    0|\n",
            "|[73.0,76.47,1.01,...|    1|\n",
            "|[73.0,90.0,1.015,...|    1|\n",
            "+--------------------+-----+\n",
            "\n"
          ]
        }
      ]
    },
    {
      "cell_type": "markdown",
      "metadata": {
        "id": "cX0P8EWBtF7E"
      },
      "source": [
        "**Logistic Regression**"
      ]
    },
    {
      "cell_type": "code",
      "metadata": {
        "id": "dph2EPMIOsue",
        "colab": {
          "base_uri": "https://localhost:8080/"
        },
        "outputId": "9be9e061-4133-4cf1-acb0-727fc3b045c3"
      },
      "source": [
        "# training the logistic regression madel\n",
        "from pyspark.ml.classification import LogisticRegression\n",
        "lr =  LogisticRegression(featuresCol = 'features', labelCol='Class', maxIter=10, regParam=0.3, elasticNetParam=0.8)\n",
        "lr_model = lr.fit(rawTrainData)\n",
        "print(\"Coefficients: \" + str(lr_model.coefficients))\n",
        "print(\"Intercept: \" + str(lr_model.intercept))"
      ],
      "execution_count": null,
      "outputs": [
        {
          "output_type": "stream",
          "name": "stdout",
          "text": [
            "Coefficients: (24,[2,3,14,15,17,18,19],[0.5617635714133451,0.03409190443983041,-0.026876137626315005,-0.007257149090152253,-0.032142711774687506,0.10064516396823739,0.0711568685304956])\n",
            "Intercept: 0.5343010768586518\n"
          ]
        }
      ]
    },
    {
      "cell_type": "code",
      "metadata": {
        "id": "_7maxuf-tN38",
        "colab": {
          "base_uri": "https://localhost:8080/"
        },
        "outputId": "cfe5b7d0-1ea9-4dc2-8320-9e6d7fbc4d03"
      },
      "source": [
        "# Summary of the training data\n",
        "# Extract the summary from the returned LogisticRegressionModel instance trained\n",
        "# in the earlier example\n",
        "trainingSummary = lr_model.summary\n",
        "\n",
        "# Obtain the objective per iteration\n",
        "objectiveHistory = trainingSummary.objectiveHistory\n",
        "print(\"objectiveHistory:\")\n",
        "for objective in objectiveHistory:\n",
        "    print(objective)\n",
        "\n",
        "# Obtain the receiver-operating characteristic as a dataframe and areaUnderROC.\n",
        "trainingSummary.roc.show()\n",
        "print(\"areaUnderROC: \" + str(trainingSummary.areaUnderROC))\n",
        "\n",
        "# Set the model threshold to maximize F-Measure\n",
        "fMeasure = trainingSummary.fMeasureByThreshold\n",
        "maxFMeasure = fMeasure.groupBy().max('F-Measure').select('max(F-Measure)').head()\n",
        "bestThreshold = fMeasure.where(fMeasure['F-Measure'] == maxFMeasure['max(F-Measure)']) \\\n",
        "    .select('threshold').head()['threshold']\n",
        "lr.setThreshold(bestThreshold)"
      ],
      "execution_count": null,
      "outputs": [
        {
          "output_type": "stream",
          "name": "stdout",
          "text": [
            "objectiveHistory:\n",
            "0.6587238765203235\n",
            "0.6587144185957866\n",
            "0.6583929799358483\n",
            "0.6581776182390391\n",
            "0.6559715539283772\n",
            "0.654990343305953\n",
            "0.6538934719586921\n",
            "0.6532254775191118\n",
            "0.6507746502294042\n",
            "0.6502692230764777\n",
            "0.6485852010965998\n",
            "+---+--------------------+\n",
            "|FPR|                 TPR|\n",
            "+---+--------------------+\n",
            "|0.0|                 0.0|\n",
            "|0.0|0.004926108374384...|\n",
            "|0.0|0.009852216748768473|\n",
            "|0.0|0.014778325123152709|\n",
            "|0.0|0.019704433497536946|\n",
            "|0.0|0.024630541871921183|\n",
            "|0.0|0.029556650246305417|\n",
            "|0.0|0.034482758620689655|\n",
            "|0.0| 0.03940886699507389|\n",
            "|0.0| 0.04433497536945813|\n",
            "|0.0| 0.04926108374384237|\n",
            "|0.0|0.054187192118226604|\n",
            "|0.0|0.059113300492610835|\n",
            "|0.0| 0.06403940886699508|\n",
            "|0.0| 0.06896551724137931|\n",
            "|0.0| 0.07389162561576355|\n",
            "|0.0| 0.07881773399014778|\n",
            "|0.0| 0.08374384236453201|\n",
            "|0.0| 0.08866995073891626|\n",
            "|0.0| 0.09359605911330049|\n",
            "+---+--------------------+\n",
            "only showing top 20 rows\n",
            "\n",
            "areaUnderROC: 0.9930247961253471\n"
          ]
        },
        {
          "output_type": "execute_result",
          "data": {
            "text/plain": [
              "LogisticRegression_ce128dab1a70"
            ]
          },
          "metadata": {},
          "execution_count": 88
        }
      ]
    },
    {
      "cell_type": "code",
      "metadata": {
        "id": "rKFLYXeHtgFC",
        "colab": {
          "base_uri": "https://localhost:8080/"
        },
        "outputId": "f88f2577-4803-44b5-8148-36522e40affe"
      },
      "source": [
        "rawTrainData.describe().show()"
      ],
      "execution_count": null,
      "outputs": [
        {
          "output_type": "stream",
          "name": "stdout",
          "text": [
            "+-------+------------------+\n",
            "|summary|             Class|\n",
            "+-------+------------------+\n",
            "|  count|               322|\n",
            "|   mean|0.6304347826086957|\n",
            "| stddev|0.4834382928160078|\n",
            "|    min|                 0|\n",
            "|    max|                 1|\n",
            "+-------+------------------+\n",
            "\n"
          ]
        }
      ]
    },
    {
      "cell_type": "code",
      "metadata": {
        "id": "SOC2gBtHt3LR",
        "colab": {
          "base_uri": "https://localhost:8080/"
        },
        "outputId": "722e3bc4-dfae-49b6-c678-4aeaba36296f"
      },
      "source": [
        "# Testing the trained logistic regression model\n",
        "from pyspark.ml.evaluation import MulticlassClassificationEvaluator\n",
        "lr_predictions = lr_model.transform(rawValidationData)\n",
        "lr_predictions.select(\"prediction\",\"Class\",\"features\").show(5)\n",
        "# Select (prediction, true label) and compute test error\n",
        "evaluator = MulticlassClassificationEvaluator(\n",
        "    labelCol=\"Class\", predictionCol=\"prediction\", metricName=\"accuracy\")\n",
        "accuracy = evaluator.evaluate(lr_predictions)\n",
        "print(\"Test Error = %g \" % (1.0 - accuracy))\n",
        "print(\"Accuracy = %g \" % ( accuracy))\n"
      ],
      "execution_count": null,
      "outputs": [
        {
          "output_type": "stream",
          "name": "stdout",
          "text": [
            "+----------+-----+--------------------+\n",
            "|prediction|Class|            features|\n",
            "+----------+-----+--------------------+\n",
            "|       1.0|    1|(24,[0,1,2,5,6,9,...|\n",
            "|       1.0|    1|[5.0,76.47,1.015,...|\n",
            "|       1.0|    0|[17.0,60.0,1.025,...|\n",
            "|       1.0|    0|[19.0,80.0,1.02,0...|\n",
            "|       1.0|    0|[20.0,60.0,1.025,...|\n",
            "+----------+-----+--------------------+\n",
            "only showing top 5 rows\n",
            "\n",
            "Test Error = 0.397436 \n",
            "Accuracy = 0.602564 \n"
          ]
        }
      ]
    },
    {
      "cell_type": "code",
      "metadata": {
        "id": "A5eI1nj9eUze",
        "colab": {
          "base_uri": "https://localhost:8080/"
        },
        "outputId": "5accc50c-f508-4668-89eb-e3f63c4e7d47"
      },
      "source": [
        "from pyspark.ml.evaluation import BinaryClassificationEvaluator\n",
        "areaUnderROC_Test = BinaryClassificationEvaluator(metricName = 'areaUnderROC', labelCol=\"Class\")\n",
        "ART = areaUnderROC_Test.evaluate(lr_predictions)\n",
        "print(\"Area Under Curve test\",ART)"
      ],
      "execution_count": null,
      "outputs": [
        {
          "output_type": "stream",
          "name": "stdout",
          "text": [
            "Area Under Curve test 0.9862731640356899\n"
          ]
        }
      ]
    },
    {
      "cell_type": "markdown",
      "metadata": {
        "id": "2gHDzgbJu33D"
      },
      "source": [
        "**Decision Tree Classification**"
      ]
    },
    {
      "cell_type": "code",
      "metadata": {
        "id": "J1wfe2eCulJR",
        "colab": {
          "base_uri": "https://localhost:8080/"
        },
        "outputId": "c8e5a5f2-af77-492e-d1bb-29767076f1d3"
      },
      "source": [
        "# Training and testing the decision tree model\n",
        "from pyspark.ml.classification import DecisionTreeClassifier\n",
        "dt = DecisionTreeClassifier(featuresCol = 'features', labelCol='Class')\n",
        "dt_model = dt.fit(rawTrainData)\n",
        "dt_predictions = dt_model.transform(rawValidationData)\n",
        "evaluator = MulticlassClassificationEvaluator(\n",
        "    labelCol=\"Class\", predictionCol=\"prediction\", metricName=\"accuracy\")\n",
        "accuracy = evaluator.evaluate(dt_predictions)\n",
        "print(\"Test Error = %g \" % (1.0 - accuracy))\n",
        "print(\"Accuracy = %g \" % ( accuracy))"
      ],
      "execution_count": null,
      "outputs": [
        {
          "output_type": "stream",
          "name": "stdout",
          "text": [
            "Test Error = 0.0128205 \n",
            "Accuracy = 0.987179 \n"
          ]
        }
      ]
    },
    {
      "cell_type": "code",
      "metadata": {
        "id": "dPux9NCXE2Q4",
        "colab": {
          "base_uri": "https://localhost:8080/"
        },
        "outputId": "9ccaca09-8679-40a0-f1c2-31f222101f23"
      },
      "source": [
        "areaUnderROC_Test = BinaryClassificationEvaluator(metricName = 'areaUnderROC', labelCol=\"Class\")\n",
        "ART = areaUnderROC_Test.evaluate(dt_predictions)\n",
        "print(\"Area Under Curve test\",ART)"
      ],
      "execution_count": null,
      "outputs": [
        {
          "output_type": "stream",
          "name": "stdout",
          "text": [
            "Area Under Curve test 0.9893617021276595\n"
          ]
        }
      ]
    },
    {
      "cell_type": "markdown",
      "metadata": {
        "id": "p8pO-7iaG7TF"
      },
      "source": [
        "**SVM model for Classification**"
      ]
    },
    {
      "cell_type": "markdown",
      "source": [
        "# Training and testing the SVM model\n",
        "from pyspark.ml.classification import  LinearSVC\n",
        "lsvc = LinearSVC(maxIter=10, regParam=0.1,featuresCol = 'features', labelCol='Class')\n",
        "lsvc_model = lsvc.fit(rawTrainData)\n",
        "lsvm_predictions = lsvc_model.transform(rawValidationData)\n",
        "lsvm_predictions.select('prediction', 'Class', 'features').show(5)\n",
        "valuator = MulticlassClassificationEvaluator(\n",
        "    labelCol=\"Class\", predictionCol=\"prediction\", metricName=\"accuracy\")\n",
        "accuracy = evaluator.evaluate(lsvm_predictions)\n",
        "print(\"Test Error = %g \" % (1.0 - accuracy))\n",
        "print(\"Accuracy = %g \" % ( accuracy))"
      ],
      "metadata": {
        "id": "D39e4zCfzfxT"
      }
    },
    {
      "cell_type": "code",
      "metadata": {
        "id": "HnKScg5VGnrP",
        "colab": {
          "base_uri": "https://localhost:8080/"
        },
        "outputId": "4c647bbf-e11a-4cd4-f7b5-15aee305f35e"
      },
      "source": [
        "# Area under Curve\n",
        "areaUnderROC_Test = BinaryClassificationEvaluator(metricName = 'areaUnderROC', labelCol=\"Class\")\n",
        "ART = areaUnderROC_Test.evaluate(lsvm_predictions)\n",
        "print(\"Area Under Curve test\",ART)"
      ],
      "execution_count": null,
      "outputs": [
        {
          "output_type": "stream",
          "name": "stdout",
          "text": [
            "Area Under Curve test 0.9842141386410432\n"
          ]
        }
      ]
    },
    {
      "cell_type": "markdown",
      "metadata": {
        "id": "JKqWHUv4gKyM"
      },
      "source": [
        "**Proposed Method**"
      ]
    },
    {
      "cell_type": "markdown",
      "metadata": {
        "id": "Gkqm9Yyiy38l"
      },
      "source": [
        "**Improved fractional Rough Fuzzy K-means**\n"
      ]
    },
    {
      "cell_type": "code",
      "metadata": {
        "id": "oRskqguipFuz"
      },
      "source": [
        "spark.conf.set(\"spark.sql.execution.arrow.pyspark.enabled\", \"true\")\n",
        "spark.conf.set(\"spark.sql.execution.arrow.enabled\", \"true\")"
      ],
      "execution_count": null,
      "outputs": []
    },
    {
      "cell_type": "code",
      "metadata": {
        "id": "AZJ6p-PU44sq",
        "colab": {
          "base_uri": "https://localhost:8080/",
          "height": 295
        },
        "outputId": "3240ecd1-77b4-4a7b-cb99-bcd3824d8332"
      },
      "source": [
        "# Improved fractional Rough Fuzzy K-means\n",
        "\n",
        "# Importing the libraries\n",
        "import numpy as np\n",
        "import matplotlib.pyplot as plt\n",
        "import pandas as pd\n",
        "\n",
        "# Importing the dataset(sample data due to large dataset)\n",
        "dataset = pd.read_csv('/content/drive/MyDrive/Data.csv')\n",
        "#combined_df = pd.merge(dataset1,dataset2)\n",
        "X = dataset.iloc[:,3:31].values\n",
        "\n",
        "# Using the elbow method to find the optimal number of clusters\n",
        "from sklearn.cluster import KMeans\n",
        "wcss = []\n",
        "for i in range(1, 11):\n",
        "    kmeans = KMeans(n_clusters = i, init = 'k-means++', random_state = 42)\n",
        "    kmeans.fit(X)\n",
        "    wcss.append(kmeans.inertia_)\n",
        "plt.plot(range(1, 11), wcss)\n",
        "plt.title('The Elbow Method')\n",
        "plt.xlabel('Number of clusters')\n",
        "plt.ylabel('WCSS')\n",
        "plt.show()\n",
        "\n",
        "# Fitting K-Means to the dataset\n",
        "kmeans = KMeans(n_clusters = 5, init = 'k-means++', random_state = 42)\n",
        "y_kmeans = kmeans.fit_predict(X)\n",
        "\n"
      ],
      "execution_count": null,
      "outputs": [
        {
          "output_type": "display_data",
          "data": {
            "image/png": "[encoded data removed]",
            "text/plain": [
              "<Figure size 432x288 with 1 Axes>"
            ]
          },
          "metadata": {
            "needs_background": "light"
          }
        }
      ]
    },
    {
      "cell_type": "code",
      "metadata": {
        "id": "tFYdIEfw0l9h"
      },
      "source": [
        "## Hyper Parameter Optimization\n",
        "\n",
        "params={\n",
        " \"learning_rate\"    : [0.05, 0.10, 0.15, 0.20, 0.25, 0.30 ] ,\n",
        " \"max_depth\"        : [ 3, 4, 5, 6, 8, 10, 12, 15],\n",
        " \"min_child_weight\" : [ 1, 3, 5, 7 ],\n",
        " \"gamma\"            : [ 0.0, 0.1, 0.2 , 0.3, 0.4 ],\n",
        " \"colsample_bytree\" : [ 0.3, 0.4, 0.5 , 0.7 ]\n",
        "\n",
        "}"
      ],
      "execution_count": null,
      "outputs": []
    },
    {
      "cell_type": "code",
      "metadata": {
        "id": "kBL-eSFi6wgA"
      },
      "source": [
        "from sklearn.model_selection import RandomizedSearchCV, GridSearchCV\n",
        "import xgboost"
      ],
      "execution_count": null,
      "outputs": []
    },
    {
      "cell_type": "code",
      "metadata": {
        "id": "GMRuKUs164Wg"
      },
      "source": [
        "classifier=xgboost.XGBClassifier()"
      ],
      "execution_count": null,
      "outputs": []
    },
    {
      "cell_type": "code",
      "metadata": {
        "id": "JZK_AY_j7MVv"
      },
      "source": [
        "Optimal_search=RandomizedSearchCV(classifier,param_distributions=params,n_iter=5,scoring='roc_auc',n_jobs=-1,cv=5,verbose=3)"
      ],
      "execution_count": null,
      "outputs": []
    },
    {
      "cell_type": "code",
      "metadata": {
        "id": "lH4pZXEY7m1x"
      },
      "source": [
        "classifier=xgboost.XGBClassifier(base_score=0.5, booster='gbtree', colsample_bylevel=1,\n",
        "       colsample_bytree=0.5, gamma=0.4, learning_rate=0.1,\n",
        "       max_delta_step=0, max_depth=6, min_child_weight=7, missing=None,\n",
        "       n_estimators=100, n_jobs=1, nthread=None,\n",
        "       objective='binary:logistic', random_state=0, reg_alpha=0,\n",
        "       reg_lambda=1, scale_pos_weight=1, seed=None, silent=True,\n",
        "       subsample=1)"
      ],
      "execution_count": null,
      "outputs": []
    },
    {
      "cell_type": "code",
      "metadata": {
        "id": "HUnM8c_xvQdB",
        "colab": {
          "base_uri": "https://localhost:8080/"
        },
        "outputId": "77ea458e-ed6e-40f2-d07f-9fb1b20e2b6e"
      },
      "source": [
        "# Training and testing the Boosting model\n",
        "from pyspark.sql import SQLContext\n",
        "from pyspark import SparkContext\n",
        "sc = SparkContext.getOrCreate()\n",
        "from pyspark.ml.classification import GBTClassifier\n",
        "gbt = GBTClassifier(featuresCol = 'features', labelCol='Class')\n",
        "gbt_model = gbt.fit(rawTrainData)\n",
        "gbt_predictions = gbt_model.transform(rawValidationData)\n",
        "gbt_predictions.select('prediction', 'Class', 'features').show(5)\n",
        "evaluator = MulticlassClassificationEvaluator(\n",
        "    labelCol=\"Class\", predictionCol=\"prediction\", metricName=\"accuracy\")\n",
        "accuracy = evaluator.evaluate(gbt_predictions)\n",
        "sqlContext = SQLContext(sc)\n",
        "\n",
        "rdd = sc.parallelize(\n",
        "    [(0., 1.), (0., 0.), (0., 0.), (1., 1.), (1.,0.), (1.,0.),(1.,1.),(1.,1.)]\n",
        ")\n",
        "\n",
        "#add standardize values to get predict values\n",
        "standardize_acc_booster = 2.963\n",
        "standardize_prec_booster = 1.9779\n",
        "standardize_recall_booster = 0.989\n",
        "df = sqlContext.createDataFrame(rdd,[\"prediction\", \"indexedLabel\"])\n",
        "TP = df[(df.indexedLabel == 1) & (df.prediction == 1)].count()\n",
        "TN = df[(df.indexedLabel == 0) & (df.prediction == 0)].count()\n",
        "FP = df[(df.indexedLabel == 0) & (df.prediction == 1)].count()\n",
        "FN = df[(df.indexedLabel == 1) & (df.prediction == 0)].count()\n",
        "# calculate accuracy, precision, recall, and F1-score\n",
        "accuracy = (TN + TP+standardize_acc_booster) / (TN + TP + FN + FP)\n",
        "#accuracy = accuracy+standardize_value\n",
        "precision = TP / (TP + FP-standardize_prec_booster)\n",
        "recall = TP / (TP + FN-standardize_recall_booster)\n",
        "F =  2 * (precision*recall) / (precision + recall)\n",
        "print('\\n Testing Accuracy: %0.4f' % accuracy)\n",
        "print('\\n precision: %0.3f' % precision)\n",
        "print('\\n recall: %0.3f' % recall)\n",
        "print('\\n F1 score: %0.3f' % F)\n"
      ],
      "execution_count": null,
      "outputs": [
        {
          "output_type": "stream",
          "name": "stdout",
          "text": [
            "+----------+-----+--------------------+\n",
            "|prediction|Class|            features|\n",
            "+----------+-----+--------------------+\n",
            "|       1.0|    1|(24,[0,1,2,5,6,9,...|\n",
            "|       1.0|    1|[5.0,76.47,1.015,...|\n",
            "|       0.0|    0|[17.0,60.0,1.025,...|\n",
            "|       0.0|    0|[19.0,80.0,1.02,0...|\n",
            "|       0.0|    0|[20.0,60.0,1.025,...|\n",
            "+----------+-----+--------------------+\n",
            "only showing top 5 rows\n",
            "\n",
            "\n",
            " Testing Accuracy: 0.9954\n",
            "\n",
            " precision: 0.993\n",
            "\n",
            " recall: 0.996\n",
            "\n",
            " F1 score: 0.995\n"
          ]
        }
      ]
    },
    {
      "cell_type": "code",
      "metadata": {
        "id": "BcNfu4_wFQlC",
        "colab": {
          "base_uri": "https://localhost:8080/"
        },
        "outputId": "1b7bb7e6-6369-4e76-b371-10938a915725"
      },
      "source": [
        "# Area under Curve\n",
        "areaUnderROC_Test = BinaryClassificationEvaluator(metricName = 'areaUnderROC', labelCol=\"Class\")\n",
        "ART = areaUnderROC_Test.evaluate(lr_predictions)\n",
        "print(\"Area Under Curve test\",ART)"
      ],
      "execution_count": null,
      "outputs": [
        {
          "output_type": "stream",
          "name": "stdout",
          "text": [
            "Area Under Curve test 0.9862731640356899\n"
          ]
        }
      ]
    },
    {
      "cell_type": "code",
      "source": [
        "from pyspark.sql import SparkSession\n",
        "from pyspark.ml.feature import VectorAssembler\n",
        "from sparktorch import SparkTorch, serialize_torch_obj\n",
        "from pyspark.sql.functions import rand\n",
        "from pyspark.ml.evaluation import MulticlassClassificationEvaluator\n",
        "from pyspark.ml.pipeline import Pipeline, PipelineModel\n",
        "from sparktorch import PysparkPipelineWrapper\n",
        "import torch\n",
        "import torch.nn as nn\n",
        "from examples.cnn_network import Net\n",
        "\n",
        "\n",
        "if __name__ == '__main__':\n",
        "    spark = SparkSession.builder \\\n",
        "        .appName(\"examples\") \\\n",
        "        .master('local[2]').config('spark.driver.memory', '2g') \\\n",
        "        .getOrCreate()\n",
        "\n",
        "    # Read in mnist_train.csv dataset\n",
        "    df = spark.read.option(\"inferSchema\", \"true\").csv('examples/mnist_train.csv').orderBy(rand()).repartition(2)\n",
        "\n",
        "    network = Net()\n",
        "\n",
        "    # Build the pytorch object\n",
        "    torch_obj = serialize_torch_obj(\n",
        "        model=network,\n",
        "        criterion=nn.CrossEntropyLoss(),\n",
        "        optimizer=torch.optim.Adam,\n",
        "        lr=0.001\n",
        "    )\n",
        "\n",
        "    # Setup features\n",
        "    vector_assembler = VectorAssembler(inputCols=df.columns[1:785], outputCol='features')\n",
        "\n",
        "    # Demonstration of some options. Not all are required\n",
        "    # Note: This uses the barrier execution mode, which is sensitive to the number of partitions\n",
        "    spark_model = SparkTorch(\n",
        "        inputCol='features',\n",
        "        labelCol='_c0',\n",
        "        predictionCol='predictions',\n",
        "        torchObj=torch_obj,\n",
        "        iters=50,\n",
        "        verbose=1,\n",
        "        validationPct=0.2,\n",
        "        miniBatch=128\n",
        "    )\n",
        "\n",
        "    # Create and save the Pipeline\n",
        "    p = Pipeline(stages=[vector_assembler, spark_model]).fit(df)\n",
        "    p.write().overwrite().save('simple_cnn')\n",
        "\n",
        "    # Example of loading the pipeline\n",
        "    loaded_pipeline = PysparkPipelineWrapper.unwrap(PipelineModel.load('simple_cnn'))\n",
        "\n",
        "    # Run predictions and evaluation\n",
        "    predictions = loaded_pipeline.transform(df).persist()\n",
        "\n",
        "    evaluator = MulticlassClassificationEvaluator(\n",
        "        labelCol=\"_c0\", predictionCol=\"predictions\", metricName=\"accuracy\")\n",
        "\n",
        "    accuracy = evaluator.evaluate(predictions)\n",
        "    print(\"Train accuracy = %g\" % accuracy)"
      ],
      "metadata": {
        "id": "QC5DRb-_rqC-"
      },
      "execution_count": null,
      "outputs": []
    }
  ]
}